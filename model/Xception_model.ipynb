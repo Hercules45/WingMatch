{
 "cells": [
  {
   "cell_type": "markdown",
   "id": "406c817e",
   "metadata": {},
   "source": [
    "dataset link: https://www.kaggle.com/datasets/gpiosenka/100-bird-species \n",
    "run the project in the kaggle        "
   ]
  },
  {
   "cell_type": "code",
   "execution_count": 1,
   "id": "00d6be05",
   "metadata": {
    "_cell_guid": "b1076dfc-b9ad-4769-8c92-a6c4dae69d19",
    "_uuid": "8f2839f25d086af736a60e9eeb907d3b93b6e0e5",
    "execution": {
     "iopub.execute_input": "2022-03-30T02:42:27.499324Z",
     "iopub.status.busy": "2022-03-30T02:42:27.497783Z",
     "iopub.status.idle": "2022-03-30T02:42:33.874016Z",
     "shell.execute_reply": "2022-03-30T02:42:33.873241Z",
     "shell.execute_reply.started": "2022-03-30T01:22:45.714611Z"
    },
    "papermill": {
     "duration": 6.394397,
     "end_time": "2022-03-30T02:42:33.874171",
     "exception": false,
     "start_time": "2022-03-30T02:42:27.479774",
     "status": "completed"
    },
    "tags": []
   },
   "outputs": [],
   "source": [
    "import numpy as np\n",
    "np.random.seed(11)\n",
    "\n",
    "import pandas as pd \n",
    "import tensorflow as tf\n",
    "import tensorflow_addons as tfa\n",
    "import os\n",
    "\n",
    "from tensorflow.keras import layers, optimizers, losses, metrics, callbacks, initializers\n",
    "from tensorflow.keras import Sequential, Model, Input\n",
    "\n",
    "from tensorflow.keras.preprocessing.image import ImageDataGenerator\n",
    "\n",
    "from sklearn.model_selection import train_test_split\n",
    "\n",
    "import matplotlib.pyplot as plt\n",
    "plt.style.use(\"ggplot\")\n",
    "%matplotlib inline\n",
    "\n",
    "import cv2\n",
    "from PIL import Image"
   ]
  },
  {
   "cell_type": "code",
   "execution_count": 6,
   "id": "722f9986",
   "metadata": {
    "execution": {
     "iopub.execute_input": "2022-03-30T02:42:33.894292Z",
     "iopub.status.busy": "2022-03-30T02:42:33.893649Z",
     "iopub.status.idle": "2022-03-30T02:42:33.895975Z",
     "shell.execute_reply": "2022-03-30T02:42:33.896370Z",
     "shell.execute_reply.started": "2022-03-30T01:22:51.619909Z"
    },
    "papermill": {
     "duration": 0.013858,
     "end_time": "2022-03-30T02:42:33.896496",
     "exception": false,
     "start_time": "2022-03-30T02:42:33.882638",
     "status": "completed"
    },
    "tags": []
   },
   "outputs": [],
   "source": [
    "TRAIN = 'C:/Users/User/Downloads/data set checking/JPDL20-Bird Species Identification/SOURCE CODE/Bird Species Identification/model/train/'\n",
    "VALID = 'C:/Users/User/Downloads/data set checking/JPDL20-Bird Species Identification/SOURCE CODE/Bird Species Identification/model/valid/'\n",
    "TEST = 'C:/Users/User/Downloads/data set checking/JPDL20-Bird Species Identification/SOURCE CODE/Bird Species Identification/model/test/'"
   ]
  },
  {
   "cell_type": "code",
   "execution_count": 7,
   "id": "aa304b17",
   "metadata": {
    "execution": {
     "iopub.execute_input": "2022-03-30T02:42:33.917478Z",
     "iopub.status.busy": "2022-03-30T02:42:33.916854Z",
     "iopub.status.idle": "2022-03-30T02:42:42.090438Z",
     "shell.execute_reply": "2022-03-30T02:42:42.089991Z",
     "shell.execute_reply.started": "2022-03-30T01:22:51.632565Z"
    },
    "papermill": {
     "duration": 8.186387,
     "end_time": "2022-03-30T02:42:42.090564",
     "exception": false,
     "start_time": "2022-03-30T02:42:33.904177",
     "status": "completed"
    },
    "tags": []
   },
   "outputs": [
    {
     "name": "stdout",
     "output_type": "stream",
     "text": [
      "Found 81950 images belonging to 510 classes.\n",
      "Found 2550 images belonging to 510 classes.\n",
      "Found 2550 images belonging to 510 classes.\n"
     ]
    }
   ],
   "source": [
    "datagen= ImageDataGenerator(rescale=1./255)\n",
    "\n",
    "train_generator=datagen.flow_from_directory(\n",
    "    directory=TRAIN,\n",
    "    batch_size=64,\n",
    "    shuffle=True,\n",
    "    class_mode=\"categorical\",\n",
    "    target_size=(224, 224))\n",
    "\n",
    "valid_generator=datagen.flow_from_directory(\n",
    "    directory=VALID,\n",
    "    batch_size=64,\n",
    "    shuffle=True,\n",
    "    class_mode=\"categorical\",\n",
    "    target_size=(224, 224))\n",
    "\n",
    "test_generator=datagen.flow_from_directory(\n",
    "    directory=TEST,\n",
    "    batch_size=64,\n",
    "    shuffle=False,\n",
    "    class_mode=\"categorical\",\n",
    "    target_size=(224, 224))"
   ]
  },
  {
   "cell_type": "code",
   "execution_count": 4,
   "id": "7ef3a3c8",
   "metadata": {
    "execution": {
     "iopub.execute_input": "2022-03-30T02:42:42.116491Z",
     "iopub.status.busy": "2022-03-30T02:42:42.114772Z",
     "iopub.status.idle": "2022-03-30T02:42:46.589168Z",
     "shell.execute_reply": "2022-03-30T02:42:46.589595Z",
     "shell.execute_reply.started": "2022-03-30T01:23:00.686410Z"
    },
    "papermill": {
     "duration": 4.49049,
     "end_time": "2022-03-30T02:42:46.589758",
     "exception": false,
     "start_time": "2022-03-30T02:42:42.099268",
     "status": "completed"
    },
    "tags": []
   },
   "outputs": [
    {
     "name": "stderr",
     "output_type": "stream",
     "text": [
      "2022-03-30 02:42:42.213494: I tensorflow/stream_executor/cuda/cuda_gpu_executor.cc:937] successful NUMA node read from SysFS had negative value (-1), but there must be at least one NUMA node, so returning NUMA node zero\n",
      "2022-03-30 02:42:42.331791: I tensorflow/stream_executor/cuda/cuda_gpu_executor.cc:937] successful NUMA node read from SysFS had negative value (-1), but there must be at least one NUMA node, so returning NUMA node zero\n",
      "2022-03-30 02:42:42.332545: I tensorflow/stream_executor/cuda/cuda_gpu_executor.cc:937] successful NUMA node read from SysFS had negative value (-1), but there must be at least one NUMA node, so returning NUMA node zero\n",
      "2022-03-30 02:42:42.334026: I tensorflow/core/platform/cpu_feature_guard.cc:142] This TensorFlow binary is optimized with oneAPI Deep Neural Network Library (oneDNN) to use the following CPU instructions in performance-critical operations:  AVX2 AVX512F FMA\n",
      "To enable them in other operations, rebuild TensorFlow with the appropriate compiler flags.\n",
      "2022-03-30 02:42:42.335179: I tensorflow/stream_executor/cuda/cuda_gpu_executor.cc:937] successful NUMA node read from SysFS had negative value (-1), but there must be at least one NUMA node, so returning NUMA node zero\n",
      "2022-03-30 02:42:42.335876: I tensorflow/stream_executor/cuda/cuda_gpu_executor.cc:937] successful NUMA node read from SysFS had negative value (-1), but there must be at least one NUMA node, so returning NUMA node zero\n",
      "2022-03-30 02:42:42.336508: I tensorflow/stream_executor/cuda/cuda_gpu_executor.cc:937] successful NUMA node read from SysFS had negative value (-1), but there must be at least one NUMA node, so returning NUMA node zero\n",
      "2022-03-30 02:42:44.333003: I tensorflow/stream_executor/cuda/cuda_gpu_executor.cc:937] successful NUMA node read from SysFS had negative value (-1), but there must be at least one NUMA node, so returning NUMA node zero\n",
      "2022-03-30 02:42:44.333832: I tensorflow/stream_executor/cuda/cuda_gpu_executor.cc:937] successful NUMA node read from SysFS had negative value (-1), but there must be at least one NUMA node, so returning NUMA node zero\n",
      "2022-03-30 02:42:44.334489: I tensorflow/stream_executor/cuda/cuda_gpu_executor.cc:937] successful NUMA node read from SysFS had negative value (-1), but there must be at least one NUMA node, so returning NUMA node zero\n",
      "2022-03-30 02:42:44.335060: I tensorflow/core/common_runtime/gpu/gpu_device.cc:1510] Created device /job:localhost/replica:0/task:0/device:GPU:0 with 15403 MB memory:  -> device: 0, name: Tesla P100-PCIE-16GB, pci bus id: 0000:00:04.0, compute capability: 6.0\n"
     ]
    },
    {
     "name": "stdout",
     "output_type": "stream",
     "text": [
      "Downloading data from https://storage.googleapis.com/tensorflow/keras-applications/xception/xception_weights_tf_dim_ordering_tf_kernels_notop.h5\n",
      "83689472/83683744 [==============================] - 0s 0us/step\n",
      "83697664/83683744 [==============================] - 0s 0us/step\n",
      "Model: \"model\"\n",
      "_________________________________________________________________\n",
      "Layer (type)                 Output Shape              Param #   \n",
      "=================================================================\n",
      "input_2 (InputLayer)         [(None, 224, 224, 3)]     0         \n",
      "_________________________________________________________________\n",
      "xception (Functional)        (None, 7, 7, 2048)        20861480  \n",
      "_________________________________________________________________\n",
      "global_max_pooling2d (Global (None, 2048)              0         \n",
      "_________________________________________________________________\n",
      "dense (Dense)                (None, 256)               524544    \n",
      "_________________________________________________________________\n",
      "batch_normalization_4 (Batch (None, 256)               1024      \n",
      "_________________________________________________________________\n",
      "dropout (Dropout)            (None, 256)               0         \n",
      "_________________________________________________________________\n",
      "outputs (Dense)              (None, 400)               102800    \n",
      "=================================================================\n",
      "Total params: 21,489,848\n",
      "Trainable params: 627,856\n",
      "Non-trainable params: 20,861,992\n",
      "_________________________________________________________________\n"
     ]
    }
   ],
   "source": [
    "from tensorflow.keras.applications.xception import Xception\n",
    "\n",
    "base_model = Xception(include_top = False, input_shape = (224,224,3), weights = 'imagenet')\n",
    "\n",
    "base_model.trainable = False\n",
    "\n",
    "inputs = Input(shape=(224,224,3))\n",
    "main = base_model(inputs, training = False)\n",
    "\n",
    "x = layers.GlobalMaxPooling2D()(main)\n",
    "x = layers.Dense(256, 'relu', kernel_initializer='he_normal')(x)\n",
    "x = layers.BatchNormalization()(x)\n",
    "x = layers.Dropout(0.3)(x)\n",
    "outputs = layers.Dense(400, activation='softmax', name= 'outputs')(x)\n",
    "\n",
    "model = Model(inputs= [inputs], outputs= [outputs])\n",
    "\n",
    "reducer = callbacks.ReduceLROnPlateau(\n",
    "    monitor='val_loss', \n",
    "    patience=1, \n",
    "    verbose=1, \n",
    "    factor=0.1)\n",
    "\n",
    "model.compile(optimizer=optimizers.Adam(0.001), \n",
    "              metrics=[metrics.CategoricalAccuracy(name='accuracy'), tfa.metrics.F1Score(400), metrics.TopKCategoricalAccuracy(k=5)], \n",
    "              loss=losses.CategoricalCrossentropy(label_smoothing=0.1))\n",
    "\n",
    "model.summary()"
   ]
  },
  {
   "cell_type": "code",
   "execution_count": 5,
   "id": "41fd35a5",
   "metadata": {
    "execution": {
     "iopub.execute_input": "2022-03-30T02:42:46.619932Z",
     "iopub.status.busy": "2022-03-30T02:42:46.619115Z",
     "iopub.status.idle": "2022-03-30T03:23:39.373372Z",
     "shell.execute_reply": "2022-03-30T03:23:39.372726Z",
     "shell.execute_reply.started": "2022-03-30T01:23:06.597918Z"
    },
    "papermill": {
     "duration": 2452.771562,
     "end_time": "2022-03-30T03:23:39.373515",
     "exception": false,
     "start_time": "2022-03-30T02:42:46.601953",
     "status": "completed"
    },
    "tags": []
   },
   "outputs": [
    {
     "name": "stderr",
     "output_type": "stream",
     "text": [
      "2022-03-30 02:42:47.133673: I tensorflow/compiler/mlir/mlir_graph_optimization_pass.cc:185] None of the MLIR Optimization Passes are enabled (registered 2)\n"
     ]
    },
    {
     "name": "stdout",
     "output_type": "stream",
     "text": [
      "Epoch 1/10\n"
     ]
    },
    {
     "name": "stderr",
     "output_type": "stream",
     "text": [
      "2022-03-30 02:42:51.543316: I tensorflow/stream_executor/cuda/cuda_dnn.cc:369] Loaded cuDNN version 8005\n"
     ]
    },
    {
     "name": "stdout",
     "output_type": "stream",
     "text": [
      "913/913 [==============================] - 424s 454ms/step - loss: 2.5922 - accuracy: 0.6074 - f1_score: 0.6025 - top_k_categorical_accuracy: 0.8269 - val_loss: 1.7066 - val_accuracy: 0.8405 - val_f1_score: 0.8328 - val_top_k_categorical_accuracy: 0.9690\n",
      "Epoch 2/10\n",
      "913/913 [==============================] - 204s 223ms/step - loss: 1.8206 - accuracy: 0.8012 - f1_score: 0.7995 - top_k_categorical_accuracy: 0.9530 - val_loss: 1.6036 - val_accuracy: 0.8665 - val_f1_score: 0.8637 - val_top_k_categorical_accuracy: 0.9795\n",
      "Epoch 3/10\n",
      "913/913 [==============================] - 204s 223ms/step - loss: 1.7090 - accuracy: 0.8370 - f1_score: 0.8354 - top_k_categorical_accuracy: 0.9657 - val_loss: 1.5422 - val_accuracy: 0.8800 - val_f1_score: 0.8773 - val_top_k_categorical_accuracy: 0.9875\n",
      "Epoch 4/10\n",
      "913/913 [==============================] - 206s 225ms/step - loss: 1.6500 - accuracy: 0.8556 - f1_score: 0.8546 - top_k_categorical_accuracy: 0.9724 - val_loss: 1.5348 - val_accuracy: 0.8750 - val_f1_score: 0.8698 - val_top_k_categorical_accuracy: 0.9825\n",
      "Epoch 5/10\n",
      "913/913 [==============================] - 207s 226ms/step - loss: 1.6083 - accuracy: 0.8702 - f1_score: 0.8697 - top_k_categorical_accuracy: 0.9767 - val_loss: 1.5238 - val_accuracy: 0.8900 - val_f1_score: 0.8859 - val_top_k_categorical_accuracy: 0.9835\n",
      "Epoch 6/10\n",
      "913/913 [==============================] - 206s 226ms/step - loss: 1.5730 - accuracy: 0.8811 - f1_score: 0.8805 - top_k_categorical_accuracy: 0.9795 - val_loss: 1.4730 - val_accuracy: 0.8945 - val_f1_score: 0.8935 - val_top_k_categorical_accuracy: 0.9845\n",
      "Epoch 7/10\n",
      "913/913 [==============================] - 207s 227ms/step - loss: 1.5442 - accuracy: 0.8906 - f1_score: 0.8901 - top_k_categorical_accuracy: 0.9827 - val_loss: 1.4665 - val_accuracy: 0.9050 - val_f1_score: 0.9010 - val_top_k_categorical_accuracy: 0.9880\n",
      "Epoch 8/10\n",
      "913/913 [==============================] - 211s 231ms/step - loss: 1.5217 - accuracy: 0.8972 - f1_score: 0.8968 - top_k_categorical_accuracy: 0.9854 - val_loss: 1.4461 - val_accuracy: 0.9085 - val_f1_score: 0.9073 - val_top_k_categorical_accuracy: 0.9900\n",
      "Epoch 9/10\n",
      "913/913 [==============================] - 208s 228ms/step - loss: 1.5071 - accuracy: 0.9030 - f1_score: 0.9027 - top_k_categorical_accuracy: 0.9867 - val_loss: 1.4761 - val_accuracy: 0.9030 - val_f1_score: 0.9003 - val_top_k_categorical_accuracy: 0.9870\n",
      "\n",
      "Epoch 00009: ReduceLROnPlateau reducing learning rate to 0.00010000000474974513.\n",
      "Epoch 10/10\n",
      "913/913 [==============================] - 210s 230ms/step - loss: 1.4103 - accuracy: 0.9364 - f1_score: 0.9363 - top_k_categorical_accuracy: 0.9922 - val_loss: 1.3266 - val_accuracy: 0.9390 - val_f1_score: 0.9381 - val_top_k_categorical_accuracy: 0.9940\n"
     ]
    }
   ],
   "source": [
    "history = model.fit(train_generator,\n",
    "                    validation_data=valid_generator,\n",
    "                    callbacks= reducer,\n",
    "                    epochs=10)"
   ]
  },
  {
   "cell_type": "code",
   "execution_count": 7,
   "id": "a95bdad3",
   "metadata": {
    "execution": {
     "iopub.execute_input": "2022-03-30T03:23:50.111657Z",
     "iopub.status.busy": "2022-03-30T03:23:50.110758Z",
     "iopub.status.idle": "2022-03-30T04:04:30.277942Z",
     "shell.execute_reply": "2022-03-30T04:04:30.278415Z",
     "shell.execute_reply.started": "2022-03-30T02:00:45.981576Z"
    },
    "papermill": {
     "duration": 2442.541972,
     "end_time": "2022-03-30T04:04:30.278595",
     "exception": false,
     "start_time": "2022-03-30T03:23:47.736623",
     "status": "completed"
    },
    "tags": []
   },
   "outputs": [
    {
     "name": "stdout",
     "output_type": "stream",
     "text": [
      "Epoch 10/20\n",
      "913/913 [==============================] - 220s 238ms/step - loss: 1.4055 - accuracy: 0.9313 - f1_score: 0.9312 - top_k_categorical_accuracy: 0.9911 - val_loss: 1.2769 - val_accuracy: 0.9545 - val_f1_score: 0.9537 - val_top_k_categorical_accuracy: 0.9960\n",
      "\n",
      "Epoch 00010: val_accuracy improved from -inf to 0.95450, saving model to birds_fine.h5\n",
      "Epoch 11/20\n",
      "913/913 [==============================] - 219s 239ms/step - loss: 1.2929 - accuracy: 0.9649 - f1_score: 0.9648 - top_k_categorical_accuracy: 0.9970 - val_loss: 1.2510 - val_accuracy: 0.9650 - val_f1_score: 0.9647 - val_top_k_categorical_accuracy: 0.9960\n",
      "\n",
      "Epoch 00011: val_accuracy improved from 0.95450 to 0.96500, saving model to birds_fine.h5\n",
      "Epoch 12/20\n",
      "913/913 [==============================] - 220s 240ms/step - loss: 1.2325 - accuracy: 0.9812 - f1_score: 0.9812 - top_k_categorical_accuracy: 0.9989 - val_loss: 1.2173 - val_accuracy: 0.9670 - val_f1_score: 0.9666 - val_top_k_categorical_accuracy: 0.9965\n",
      "\n",
      "Epoch 00012: val_accuracy improved from 0.96500 to 0.96700, saving model to birds_fine.h5\n",
      "Epoch 13/20\n",
      "913/913 [==============================] - 221s 242ms/step - loss: 1.1913 - accuracy: 0.9893 - f1_score: 0.9893 - top_k_categorical_accuracy: 0.9997 - val_loss: 1.2001 - val_accuracy: 0.9675 - val_f1_score: 0.9672 - val_top_k_categorical_accuracy: 0.9975\n",
      "\n",
      "Epoch 00013: val_accuracy improved from 0.96700 to 0.96750, saving model to birds_fine.h5\n",
      "Epoch 14/20\n",
      "913/913 [==============================] - 217s 238ms/step - loss: 1.1619 - accuracy: 0.9935 - f1_score: 0.9935 - top_k_categorical_accuracy: 0.9999 - val_loss: 1.1830 - val_accuracy: 0.9740 - val_f1_score: 0.9737 - val_top_k_categorical_accuracy: 0.9970\n",
      "\n",
      "Epoch 00014: val_accuracy improved from 0.96750 to 0.97400, saving model to birds_fine.h5\n",
      "Epoch 15/20\n",
      "913/913 [==============================] - 216s 237ms/step - loss: 1.1388 - accuracy: 0.9957 - f1_score: 0.9958 - top_k_categorical_accuracy: 0.9999 - val_loss: 1.1718 - val_accuracy: 0.9720 - val_f1_score: 0.9717 - val_top_k_categorical_accuracy: 0.9960\n",
      "\n",
      "Epoch 00015: val_accuracy did not improve from 0.97400\n",
      "Epoch 16/20\n",
      "913/913 [==============================] - 211s 231ms/step - loss: 1.1210 - accuracy: 0.9973 - f1_score: 0.9973 - top_k_categorical_accuracy: 1.0000 - val_loss: 1.1576 - val_accuracy: 0.9735 - val_f1_score: 0.9730 - val_top_k_categorical_accuracy: 0.9975\n",
      "\n",
      "Epoch 00016: val_accuracy did not improve from 0.97400\n",
      "Epoch 17/20\n",
      "913/913 [==============================] - 216s 236ms/step - loss: 1.1069 - accuracy: 0.9982 - f1_score: 0.9982 - top_k_categorical_accuracy: 1.0000 - val_loss: 1.1442 - val_accuracy: 0.9780 - val_f1_score: 0.9778 - val_top_k_categorical_accuracy: 0.9975\n",
      "\n",
      "Epoch 00017: val_accuracy improved from 0.97400 to 0.97800, saving model to birds_fine.h5\n",
      "Epoch 18/20\n",
      "913/913 [==============================] - 216s 237ms/step - loss: 1.0935 - accuracy: 0.9987 - f1_score: 0.9987 - top_k_categorical_accuracy: 1.0000 - val_loss: 1.1510 - val_accuracy: 0.9750 - val_f1_score: 0.9745 - val_top_k_categorical_accuracy: 0.9970\n",
      "\n",
      "Epoch 00018: val_accuracy did not improve from 0.97800\n",
      "Epoch 19/20\n",
      "913/913 [==============================] - 218s 238ms/step - loss: 1.0846 - accuracy: 0.9988 - f1_score: 0.9988 - top_k_categorical_accuracy: 1.0000 - val_loss: 1.1364 - val_accuracy: 0.9755 - val_f1_score: 0.9750 - val_top_k_categorical_accuracy: 0.9980\n",
      "\n",
      "Epoch 00019: val_accuracy did not improve from 0.97800\n",
      "Epoch 20/20\n",
      "913/913 [==============================] - 217s 238ms/step - loss: 1.0749 - accuracy: 0.9993 - f1_score: 0.9994 - top_k_categorical_accuracy: 1.0000 - val_loss: 1.1286 - val_accuracy: 0.9735 - val_f1_score: 0.9731 - val_top_k_categorical_accuracy: 0.9980\n",
      "\n",
      "Epoch 00020: val_accuracy did not improve from 0.97800\n"
     ]
    }
   ],
   "source": [
    "base_model = model.layers[1]\n",
    "base_model.trainable = True\n",
    "\n",
    "for  layer in base_model.layers[:-20]:\n",
    "    layer.trainable = False\n",
    "\n",
    "model.compile(optimizer = optimizers.Adam(0.0001), \n",
    "              metrics=[metrics.CategoricalAccuracy(name='accuracy'), tfa.metrics.F1Score(400), metrics.TopKCategoricalAccuracy(k=5)], \n",
    "              loss=losses.CategoricalCrossentropy(label_smoothing=0.1))\n",
    "\n",
    "checkpoint = callbacks.ModelCheckpoint(\n",
    "    filepath='birds_fine.h5',\n",
    "    monitor='val_accuracy',\n",
    "    verbose=1,\n",
    "    save_best_only=True,\n",
    "    mode = 'max')\n",
    "\n",
    "history_fine = model.fit(train_generator,\n",
    "                         epochs=20,\n",
    "                         initial_epoch=history.epoch[-1],\n",
    "                         validation_data=valid_generator,\n",
    "                         callbacks= checkpoint)"
   ]
  },
  {
   "cell_type": "code",
   "execution_count": 8,
   "id": "cbbe9d91",
   "metadata": {
    "execution": {
     "iopub.execute_input": "2022-03-30T04:04:40.650662Z",
     "iopub.status.busy": "2022-03-30T04:04:40.649824Z",
     "iopub.status.idle": "2022-03-30T04:04:40.968749Z",
     "shell.execute_reply": "2022-03-30T04:04:40.969149Z",
     "shell.execute_reply.started": "2022-03-30T02:41:29.582499Z"
    },
    "papermill": {
     "duration": 5.664527,
     "end_time": "2022-03-30T04:04:40.969315",
     "exception": false,
     "start_time": "2022-03-30T04:04:35.304788",
     "status": "completed"
    },
    "tags": []
   },
   "outputs": [
    {
     "data": {
      "image/png": "[encoded data removed]",
      "text/plain": [
       "<Figure size 576x576 with 2 Axes>"
      ]
     },
     "metadata": {
      "needs_background": "light"
     },
     "output_type": "display_data"
    }
   ],
   "source": [
    " acc = [0.] + history.history['accuracy']\n",
    "val_acc = [0.] + history.history['val_accuracy']\n",
    "\n",
    "loss = history.history['loss']\n",
    "val_loss = history.history['val_loss']\n",
    "\n",
    "plt.figure(figsize=(8, 8))\n",
    "plt.subplot(2, 1, 1)\n",
    "plt.plot(acc, label='Training Accuracy')\n",
    "plt.plot(val_acc, label='Validation Accuracy')\n",
    "plt.legend(loc='lower right')\n",
    "plt.ylabel('Accuracy')\n",
    "plt.title('Training and Validation Accuracy')\n",
    "\n",
    "plt.subplot(2, 1, 2)\n",
    "plt.plot(loss, label='Training Loss')\n",
    "plt.plot(val_loss, label='Validation Loss')\n",
    "plt.legend(loc='upper right')\n",
    "plt.ylabel('Cross Entropy')\n",
    "plt.title('Training and Validation Loss')\n",
    "plt.xlabel('epoch')\n",
    "plt.show()"
   ]
  },
  {
   "cell_type": "code",
   "execution_count": 9,
   "id": "a0437467",
   "metadata": {
    "execution": {
     "iopub.execute_input": "2022-03-30T04:04:51.460315Z",
     "iopub.status.busy": "2022-03-30T04:04:51.458860Z",
     "iopub.status.idle": "2022-03-30T04:05:12.494454Z",
     "shell.execute_reply": "2022-03-30T04:05:12.494844Z",
     "shell.execute_reply.started": "2022-03-30T02:41:34.438275Z"
    },
    "papermill": {
     "duration": 26.460963,
     "end_time": "2022-03-30T04:05:12.494989",
     "exception": false,
     "start_time": "2022-03-30T04:04:46.034026",
     "status": "completed"
    },
    "tags": []
   },
   "outputs": [
    {
     "name": "stdout",
     "output_type": "stream",
     "text": [
      "32/32 [==============================] - 16s 504ms/step - loss: 1.0885 - accuracy: 0.9910 - f1_score: 0.9910 - top_k_categorical_accuracy: 0.9980\n"
     ]
    },
    {
     "data": {
      "text/plain": [
       "[1.0885026454925537,\n",
       " 0.9909999966621399,\n",
       " array([1.        , 0.88888896, 1.        , 1.        , 1.        ,\n",
       "        1.        , 1.        , 1.        , 1.        , 1.        ,\n",
       "        1.        , 0.88888896, 1.        , 1.        , 1.        ,\n",
       "        1.        , 1.        , 0.90909094, 0.88888896, 1.        ,\n",
       "        0.88888896, 1.        , 1.        , 1.        , 1.        ,\n",
       "        1.        , 1.        , 1.        , 1.        , 1.        ,\n",
       "        1.        , 1.        , 1.        , 0.8000001 , 1.        ,\n",
       "        1.        , 1.        , 1.        , 1.        , 1.        ,\n",
       "        1.        , 0.90909094, 1.        , 1.        , 1.        ,\n",
       "        1.        , 1.        , 0.90909094, 1.        , 1.        ,\n",
       "        1.        , 1.        , 0.90909094, 1.        , 1.        ,\n",
       "        1.        , 1.        , 1.        , 1.        , 1.        ,\n",
       "        1.        , 1.        , 1.        , 1.        , 1.        ,\n",
       "        1.        , 1.        , 1.        , 1.        , 1.        ,\n",
       "        1.        , 1.        , 1.        , 1.        , 1.        ,\n",
       "        1.        , 1.        , 1.        , 1.        , 1.        ,\n",
       "        1.        , 1.        , 0.88888896, 0.90909094, 1.        ,\n",
       "        1.        , 1.        , 1.        , 1.        , 1.        ,\n",
       "        1.        , 1.        , 1.        , 1.        , 0.90909094,\n",
       "        1.        , 1.        , 1.        , 1.        , 1.        ,\n",
       "        1.        , 1.        , 1.        , 1.        , 1.        ,\n",
       "        1.        , 1.        , 1.        , 1.        , 1.        ,\n",
       "        1.        , 1.        , 1.        , 1.        , 1.        ,\n",
       "        1.        , 1.        , 1.        , 1.        , 0.90909094,\n",
       "        1.        , 1.        , 1.        , 1.        , 1.        ,\n",
       "        1.        , 1.        , 1.        , 1.        , 1.        ,\n",
       "        1.        , 1.        , 1.        , 1.        , 1.        ,\n",
       "        1.        , 1.        , 0.88888896, 1.        , 1.        ,\n",
       "        1.        , 1.        , 1.        , 1.        , 1.        ,\n",
       "        1.        , 1.        , 1.        , 1.        , 1.        ,\n",
       "        1.        , 1.        , 1.        , 1.        , 1.        ,\n",
       "        1.        , 1.        , 1.        , 1.        , 1.        ,\n",
       "        1.        , 1.        , 1.        , 1.        , 1.        ,\n",
       "        1.        , 1.        , 1.        , 1.        , 1.        ,\n",
       "        1.        , 1.        , 1.        , 1.        , 1.        ,\n",
       "        1.        , 1.        , 1.        , 1.        , 1.        ,\n",
       "        0.88888896, 1.        , 1.        , 1.        , 1.        ,\n",
       "        1.        , 1.        , 1.        , 1.        , 1.        ,\n",
       "        1.        , 1.        , 1.        , 1.        , 1.        ,\n",
       "        1.        , 1.        , 1.        , 1.        , 1.        ,\n",
       "        1.        , 1.        , 1.        , 1.        , 0.90909094,\n",
       "        1.        , 1.        , 1.        , 1.        , 1.        ,\n",
       "        1.        , 1.        , 1.        , 1.        , 1.        ,\n",
       "        1.        , 1.        , 1.        , 0.88888896, 1.        ,\n",
       "        1.        , 1.        , 1.        , 1.        , 1.        ,\n",
       "        1.        , 1.        , 1.        , 1.        , 0.90909094,\n",
       "        1.        , 1.        , 1.        , 1.        , 1.        ,\n",
       "        1.        , 1.        , 1.        , 1.        , 1.        ,\n",
       "        1.        , 1.        , 1.        , 1.        , 1.        ,\n",
       "        1.        , 1.        , 1.        , 1.        , 1.        ,\n",
       "        1.        , 0.88888896, 1.        , 1.        , 1.        ,\n",
       "        1.        , 1.        , 0.88888896, 1.        , 1.        ,\n",
       "        1.        , 1.        , 1.        , 1.        , 0.8333334 ,\n",
       "        1.        , 1.        , 0.88888896, 1.        , 1.        ,\n",
       "        1.        , 1.        , 0.90909094, 1.        , 1.        ,\n",
       "        1.        , 1.        , 1.        , 1.        , 1.        ,\n",
       "        1.        , 1.        , 1.        , 1.        , 1.        ,\n",
       "        1.        , 1.        , 1.        , 1.        , 1.        ,\n",
       "        1.        , 1.        , 1.        , 1.        , 1.        ,\n",
       "        1.        , 0.90909094, 1.        , 1.        , 1.        ,\n",
       "        1.        , 1.        , 1.        , 1.        , 0.88888896,\n",
       "        1.        , 0.8000001 , 1.        , 1.        , 1.        ,\n",
       "        1.        , 1.        , 1.        , 1.        , 1.        ,\n",
       "        1.        , 1.        , 1.        , 1.        , 1.        ,\n",
       "        1.        , 1.        , 1.        , 1.        , 1.        ,\n",
       "        1.        , 1.        , 1.        , 1.        , 1.        ,\n",
       "        1.        , 1.        , 1.        , 1.        , 0.90909094,\n",
       "        1.        , 1.        , 1.        , 1.        , 1.        ,\n",
       "        1.        , 1.        , 1.        , 1.        , 1.        ,\n",
       "        0.88888896, 0.90909094, 1.        , 1.        , 1.        ,\n",
       "        1.        , 1.        , 1.        , 1.        , 1.        ,\n",
       "        1.        , 1.        , 1.        , 0.8000001 , 1.        ,\n",
       "        1.        , 1.        , 1.        , 1.        , 1.        ,\n",
       "        1.        , 1.        , 1.        , 1.        , 1.        ,\n",
       "        1.        , 1.        , 1.        , 1.        , 1.        ,\n",
       "        1.        , 1.        , 1.        , 1.        , 0.88888896,\n",
       "        1.        , 1.        , 1.        , 1.        , 0.88888896,\n",
       "        1.        , 1.        , 1.        , 1.        , 1.        ,\n",
       "        1.        , 1.        , 1.        , 1.        , 1.        ,\n",
       "        1.        , 1.        , 1.        , 1.        , 1.        ],\n",
       "       dtype=float32),\n",
       " 0.9980000257492065]"
      ]
     },
     "execution_count": 9,
     "metadata": {},
     "output_type": "execute_result"
    }
   ],
   "source": [
    "model.evaluate(test_generator)"
   ]
  },
  {
   "cell_type": "code",
   "execution_count": null,
   "id": "b2557485",
   "metadata": {
    "papermill": {
     "duration": 5.374559,
     "end_time": "2022-03-30T04:05:22.923405",
     "exception": false,
     "start_time": "2022-03-30T04:05:17.548846",
     "status": "completed"
    },
    "tags": []
   },
   "outputs": [],
   "source": [
    "\n"
   ]
  }
 ],
 "metadata": {
  "kernelspec": {
   "display_name": "Python 3 (ipykernel)",
   "language": "python",
   "name": "python3"
  },
  "language_info": {
   "codemirror_mode": {
    "name": "ipython",
    "version": 3
   },
   "file_extension": ".py",
   "mimetype": "text/x-python",
   "name": "python",
   "nbconvert_exporter": "python",
   "pygments_lexer": "ipython3",
   "version": "3.9.12"
  },
  "papermill": {
   "default_parameters": {},
   "duration": 4991.868532,
   "end_time": "2022-03-30T04:05:31.345604",
   "environment_variables": {},
   "exception": null,
   "input_path": "__notebook__.ipynb",
   "output_path": "__notebook__.ipynb",
   "parameters": {},
   "start_time": "2022-03-30T02:42:19.477072",
   "version": "2.3.3"
  }
 },
 "nbformat": 4,
 "nbformat_minor": 5
}
